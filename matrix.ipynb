{
  "nbformat": 4,
  "nbformat_minor": 0,
  "metadata": {
    "colab": {
      "provenance": []
    },
    "kernelspec": {
      "name": "python3",
      "display_name": "Python 3"
    },
    "language_info": {
      "name": "python"
    }
  },
  "cells": [
    {
      "cell_type": "code",
      "execution_count": null,
      "metadata": {
        "id": "U2yqphbPgDQi"
      },
      "outputs": [],
      "source": [
        "import numpy as np"
      ]
    },
    {
      "cell_type": "markdown",
      "source": [
        "**1. Creating a Matrix using numpy**"
      ],
      "metadata": {
        "id": "vBjd3uKAV7Vg"
      }
    },
    {
      "cell_type": "code",
      "source": [
        "matrix=np.array([[2,1,4],[3,4,5],[8,5,3]])\n",
        "print(matrix)"
      ],
      "metadata": {
        "colab": {
          "base_uri": "https://localhost:8080/"
        },
        "id": "--k-fchnVPCC",
        "outputId": "e6142258-af6d-4887-a992-84321cdfed14"
      },
      "execution_count": null,
      "outputs": [
        {
          "output_type": "stream",
          "name": "stdout",
          "text": [
            "[[2 1 4]\n",
            " [3 4 5]\n",
            " [8 5 3]]\n"
          ]
        }
      ]
    },
    {
      "cell_type": "markdown",
      "source": [
        "**2.Shape of matrix**"
      ],
      "metadata": {
        "id": "Zd821Cf5WPrl"
      }
    },
    {
      "cell_type": "code",
      "source": [
        "matrix.shape"
      ],
      "metadata": {
        "colab": {
          "base_uri": "https://localhost:8080/"
        },
        "id": "Y13a02OkVjC4",
        "outputId": "addf2818-55ac-4228-d6eb-379b49463262"
      },
      "execution_count": null,
      "outputs": [
        {
          "output_type": "execute_result",
          "data": {
            "text/plain": [
              "(3, 3)"
            ]
          },
          "metadata": {},
          "execution_count": 4
        }
      ]
    },
    {
      "cell_type": "markdown",
      "source": [
        "**3. Creating Matrices with Random Values**"
      ],
      "metadata": {
        "id": "NBYxi8eQYF2r"
      }
    },
    {
      "cell_type": "code",
      "source": [
        "matrix1=np.random.rand(3,3)\n",
        "print(matrix1)"
      ],
      "metadata": {
        "colab": {
          "base_uri": "https://localhost:8080/"
        },
        "id": "giiOOeicWOKc",
        "outputId": "c02281ab-a8f5-4337-f212-94634fe9e53b"
      },
      "execution_count": null,
      "outputs": [
        {
          "output_type": "stream",
          "name": "stdout",
          "text": [
            "[[0.97153787 0.7046524  0.10804694]\n",
            " [0.53590879 0.27149209 0.73828206]\n",
            " [0.83699714 0.92436575 0.29385424]]\n"
          ]
        }
      ]
    },
    {
      "cell_type": "code",
      "source": [
        "matrix2=np.random.randint(10,size=(3,3))\n",
        "# creating matrix with random integers\n",
        "print(matrix2)\n"
      ],
      "metadata": {
        "colab": {
          "base_uri": "https://localhost:8080/"
        },
        "id": "aELLCTWwXWoZ",
        "outputId": "0af9d113-7df3-4771-9430-8f8144466c94"
      },
      "execution_count": null,
      "outputs": [
        {
          "output_type": "stream",
          "name": "stdout",
          "text": [
            "[[2 2 4]\n",
            " [5 9 0]\n",
            " [1 6 2]]\n"
          ]
        }
      ]
    },
    {
      "cell_type": "code",
      "source": [
        "matrix3=np.ones((3,3),dtype=int)\n",
        "print(matrix3)"
      ],
      "metadata": {
        "colab": {
          "base_uri": "https://localhost:8080/"
        },
        "id": "3whzCXkdYAhF",
        "outputId": "3ada222e-b30d-4fb4-c677-0a527dade38b"
      },
      "execution_count": null,
      "outputs": [
        {
          "output_type": "stream",
          "name": "stdout",
          "text": [
            "[[1 1 1]\n",
            " [1 1 1]\n",
            " [1 1 1]]\n"
          ]
        }
      ]
    },
    {
      "cell_type": "markdown",
      "source": [
        "**4. Null matrix**"
      ],
      "metadata": {
        "id": "ntvF2PfVaMzh"
      }
    },
    {
      "cell_type": "code",
      "source": [
        "matrix4=np.zeros((3,3),dtype=int)\n",
        "print(matrix4)"
      ],
      "metadata": {
        "colab": {
          "base_uri": "https://localhost:8080/"
        },
        "id": "ljzMHLbzZR49",
        "outputId": "d80a2807-29e8-4276-fa74-8c0d9e5ce153"
      },
      "execution_count": null,
      "outputs": [
        {
          "output_type": "stream",
          "name": "stdout",
          "text": [
            "[[0 0 0]\n",
            " [0 0 0]\n",
            " [0 0 0]]\n"
          ]
        }
      ]
    },
    {
      "cell_type": "markdown",
      "source": [
        "**5. identity matrix**"
      ],
      "metadata": {
        "id": "ZZFivSC9aWaP"
      }
    },
    {
      "cell_type": "code",
      "source": [
        "matrix5=np.eye(3,dtype=int)\n",
        "print(matrix5)"
      ],
      "metadata": {
        "colab": {
          "base_uri": "https://localhost:8080/"
        },
        "id": "KmE4ovT9ZoKT",
        "outputId": "5f053cfb-55ee-4f0b-9979-4407fc0b5418"
      },
      "execution_count": null,
      "outputs": [
        {
          "output_type": "stream",
          "name": "stdout",
          "text": [
            "[[1 0 0]\n",
            " [0 1 0]\n",
            " [0 0 1]]\n"
          ]
        }
      ]
    },
    {
      "cell_type": "markdown",
      "source": [
        "**6. Transpose of a Matrix**"
      ],
      "metadata": {
        "id": "--kkhJwGavIE"
      }
    },
    {
      "cell_type": "code",
      "source": [
        "matrix0=np.random.randint(10,size=(3,3))\n",
        "print(matrix0)\n"
      ],
      "metadata": {
        "colab": {
          "base_uri": "https://localhost:8080/"
        },
        "id": "DF7eHEkqZxqT",
        "outputId": "254c3c51-a082-4480-805e-c4ea4bc38c0a"
      },
      "execution_count": null,
      "outputs": [
        {
          "output_type": "stream",
          "name": "stdout",
          "text": [
            "[[5 0 2]\n",
            " [9 1 1]\n",
            " [8 6 0]]\n"
          ]
        }
      ]
    },
    {
      "cell_type": "code",
      "source": [
        "matrix9=np.transpose(matrix0)\n",
        "print(matrix9)"
      ],
      "metadata": {
        "colab": {
          "base_uri": "https://localhost:8080/"
        },
        "id": "br2nkwX0a9HN",
        "outputId": "de952c64-f4e4-439b-d01f-7638b6c52bf4"
      },
      "execution_count": null,
      "outputs": [
        {
          "output_type": "stream",
          "name": "stdout",
          "text": [
            "[[5 9 8]\n",
            " [0 1 6]\n",
            " [2 1 0]]\n"
          ]
        }
      ]
    },
    {
      "cell_type": "markdown",
      "source": [
        "# **Matrix operation**"
      ],
      "metadata": {
        "id": "12Oobxk-Va04"
      }
    },
    {
      "cell_type": "code",
      "source": [
        "# creating two matrices\n",
        "matrix1=np.array([[1,3,3],[3,3,4],[2,8,4]])\n",
        "matrix2=np.array([[1,2,3],[3,2,4],[2,8,4]])"
      ],
      "metadata": {
        "id": "zdges1B-bbr7"
      },
      "execution_count": null,
      "outputs": []
    },
    {
      "cell_type": "code",
      "source": [
        "# creating random two matrix\n",
        "matrix_3=np.random.randint(10,size=(3,3))\n",
        "matrix_4=np.random.randint(10,size=(3,3))"
      ],
      "metadata": {
        "id": "zfG08CN6dlDL"
      },
      "execution_count": null,
      "outputs": []
    },
    {
      "cell_type": "code",
      "source": [
        "print(matrix1)"
      ],
      "metadata": {
        "colab": {
          "base_uri": "https://localhost:8080/"
        },
        "id": "GHBreo3_WQvD",
        "outputId": "c7eae247-a966-4f46-9505-5730eee8c097"
      },
      "execution_count": null,
      "outputs": [
        {
          "output_type": "stream",
          "name": "stdout",
          "text": [
            "[[1 3 3]\n",
            " [3 3 4]\n",
            " [2 8 4]]\n"
          ]
        }
      ]
    },
    {
      "cell_type": "code",
      "source": [
        "print(matrix2)"
      ],
      "metadata": {
        "colab": {
          "base_uri": "https://localhost:8080/"
        },
        "id": "7y74D8a9YaDq",
        "outputId": "7bddec9a-91d6-4481-f49d-7365558e1c44"
      },
      "execution_count": null,
      "outputs": [
        {
          "output_type": "stream",
          "name": "stdout",
          "text": [
            "[[1 2 3]\n",
            " [3 2 4]\n",
            " [2 8 4]]\n"
          ]
        }
      ]
    },
    {
      "cell_type": "markdown",
      "source": [
        "**1. Adding two Matrices**"
      ],
      "metadata": {
        "id": "xQPn_iMfZR4L"
      }
    },
    {
      "cell_type": "code",
      "source": [
        "sum=matrix1+matrix2\n",
        "#sum=np.add(matrix1,matrix2)\n",
        "print(sum)"
      ],
      "metadata": {
        "colab": {
          "base_uri": "https://localhost:8080/"
        },
        "id": "Z3Q59ftIY-b0",
        "outputId": "85854e52-548d-430c-9c39-7fe4650789d2"
      },
      "execution_count": null,
      "outputs": [
        {
          "output_type": "stream",
          "name": "stdout",
          "text": [
            "[[ 2  5  6]\n",
            " [ 6  5  8]\n",
            " [ 4 16  8]]\n"
          ]
        }
      ]
    },
    {
      "cell_type": "markdown",
      "source": [
        "**2. Matrix Subtraction**"
      ],
      "metadata": {
        "id": "zpvUYbRveS6_"
      }
    },
    {
      "cell_type": "code",
      "source": [
        "print(matrix_3)"
      ],
      "metadata": {
        "colab": {
          "base_uri": "https://localhost:8080/"
        },
        "id": "UToJu83vfVkw",
        "outputId": "d09c3164-67da-4115-de20-71586b2ca9ce"
      },
      "execution_count": null,
      "outputs": [
        {
          "output_type": "stream",
          "name": "stdout",
          "text": [
            "[[7 3 2]\n",
            " [9 3 2]\n",
            " [2 9 0]]\n"
          ]
        }
      ]
    },
    {
      "cell_type": "code",
      "source": [
        "print(matrix_4)"
      ],
      "metadata": {
        "colab": {
          "base_uri": "https://localhost:8080/"
        },
        "id": "2RDMk3tXfihy",
        "outputId": "dcdbb86e-106d-4d56-86aa-9e18e59f030f"
      },
      "execution_count": null,
      "outputs": [
        {
          "output_type": "stream",
          "name": "stdout",
          "text": [
            "[[5 4 4]\n",
            " [1 0 0]\n",
            " [6 9 6]]\n"
          ]
        }
      ]
    },
    {
      "cell_type": "code",
      "source": [
        "sub=matrix_3-matrix_4\n",
        "#sub=np.subtract(matrix_3,matrix_4)\n",
        "print(sub)\n",
        "\n"
      ],
      "metadata": {
        "colab": {
          "base_uri": "https://localhost:8080/"
        },
        "id": "oO3jqIdoaDVc",
        "outputId": "d45d33f3-e08a-4856-ccd8-81bb3c3479b0"
      },
      "execution_count": null,
      "outputs": [
        {
          "output_type": "stream",
          "name": "stdout",
          "text": [
            "[[ 2 -1 -2]\n",
            " [ 8  3  2]\n",
            " [-4  0 -6]]\n"
          ]
        }
      ]
    },
    {
      "cell_type": "markdown",
      "source": [
        "**3. Multiplying 2 Matrices**"
      ],
      "metadata": {
        "id": "ac0GfUbJevLS"
      }
    },
    {
      "cell_type": "code",
      "source": [
        "product = np.dot(matrix_3, matrix_4)\n",
        "print(product)"
      ],
      "metadata": {
        "colab": {
          "base_uri": "https://localhost:8080/"
        },
        "id": "C09tc1YNedEj",
        "outputId": "71a90028-b223-4fe2-e293-858f239d5ad5"
      },
      "execution_count": null,
      "outputs": [
        {
          "output_type": "stream",
          "name": "stdout",
          "text": [
            "[[50 46 40]\n",
            " [60 54 48]\n",
            " [19  8  8]]\n"
          ]
        }
      ]
    }
  ]
}