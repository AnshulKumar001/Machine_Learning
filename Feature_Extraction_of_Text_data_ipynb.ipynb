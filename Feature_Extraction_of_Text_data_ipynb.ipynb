{
  "nbformat": 4,
  "nbformat_minor": 0,
  "metadata": {
    "colab": {
      "provenance": []
    },
    "kernelspec": {
      "name": "python3",
      "display_name": "Python 3"
    },
    "language_info": {
      "name": "python"
    }
  },
  "cells": [
    {
      "cell_type": "markdown",
      "source": [
        "#  **1. CountVectorizer**"
      ],
      "metadata": {
        "id": "OvTZFNyWuZcr"
      }
    },
    {
      "cell_type": "markdown",
      "source": [
        "Yeh har word ko count karta hai — kitni baar aaya sentence mein. Bas, simple sa system hai"
      ],
      "metadata": {
        "id": "yoiAN0NGu3iU"
      }
    },
    {
      "cell_type": "code",
      "source": [
        "from sklearn.feature_extraction.text import CountVectorizer"
      ],
      "metadata": {
        "id": "WytLQGjfm7NP"
      },
      "execution_count": null,
      "outputs": []
    },
    {
      "cell_type": "code",
      "source": [
        "documents=[\n",
        "    \"your service is very very bad\",\n",
        "    \"TCS is service based company\",\n",
        "    \"you work in bad service\"\n",
        "    ]"
      ],
      "metadata": {
        "id": "Ncz3MJNCnVPV"
      },
      "execution_count": null,
      "outputs": []
    },
    {
      "cell_type": "code",
      "source": [
        "count_vectorizer = CountVectorizer()"
      ],
      "metadata": {
        "id": "ZIzm7DN8oONB"
      },
      "execution_count": null,
      "outputs": []
    },
    {
      "cell_type": "code",
      "source": [
        "count_matrix = count_vectorizer.fit_transform(documents)"
      ],
      "metadata": {
        "id": "rCEV1wp9okey"
      },
      "execution_count": null,
      "outputs": []
    },
    {
      "cell_type": "code",
      "source": [
        "print(\"vocabulary:\",count_vectorizer.vocabulary_)"
      ],
      "metadata": {
        "colab": {
          "base_uri": "https://localhost:8080/"
        },
        "id": "3Qr3JTBlo0tD",
        "outputId": "a6d0c81d-4118-4f3d-91d1-0dc7793f0ad2"
      },
      "execution_count": null,
      "outputs": [
        {
          "output_type": "stream",
          "name": "stdout",
          "text": [
            "vocabulary: {'your': 10, 'service': 5, 'is': 4, 'very': 7, 'bad': 0, 'tcs': 6, 'based': 1, 'company': 2, 'you': 9, 'work': 8, 'in': 3}\n"
          ]
        }
      ]
    },
    {
      "cell_type": "code",
      "source": [
        "print(count_matrix.toarray())"
      ],
      "metadata": {
        "colab": {
          "base_uri": "https://localhost:8080/"
        },
        "id": "_pUyi42Mpd95",
        "outputId": "afa985c1-406a-4fe5-84f7-f0b3b44ecc4d"
      },
      "execution_count": null,
      "outputs": [
        {
          "output_type": "stream",
          "name": "stdout",
          "text": [
            "[[1 0 0 0 1 1 0 2 0 0 1]\n",
            " [0 1 1 0 1 1 1 0 0 0 0]\n",
            " [1 0 0 1 0 1 0 0 1 1 0]]\n"
          ]
        }
      ]
    },
    {
      "cell_type": "markdown",
      "source": [
        "# **2. TfidfVectorizer**"
      ],
      "metadata": {
        "id": "joJRzqbXuKWg"
      }
    },
    {
      "cell_type": "markdown",
      "source": [
        "Yeh sirf ginti nahi karta, balki yeh bhi dekhta hai ki kaunsa word kitna unique hai poore dataset mein.\n",
        "TF = Term Frequency\n",
        "IDF = Inverse Document Frequency"
      ],
      "metadata": {
        "id": "rfXBa5v0uGgA"
      }
    },
    {
      "cell_type": "code",
      "source": [
        "from sklearn.feature_extraction.text import TfidfVectorizer"
      ],
      "metadata": {
        "id": "rlsJMnNiso0E"
      },
      "execution_count": null,
      "outputs": []
    },
    {
      "cell_type": "code",
      "source": [
        "texts = [\n",
        "     \"your service is very very bad\",\n",
        "    \"TCS is service based company\",\n",
        "    \"you work in bad service\"\n",
        "]"
      ],
      "metadata": {
        "id": "4Cd0qP8Qss4-"
      },
      "execution_count": null,
      "outputs": []
    },
    {
      "cell_type": "code",
      "source": [
        "vectorizer = TfidfVectorizer()"
      ],
      "metadata": {
        "id": "Z_IwvHVUsyGa"
      },
      "execution_count": null,
      "outputs": []
    },
    {
      "cell_type": "code",
      "source": [
        "X = vectorizer.fit_transform(texts)"
      ],
      "metadata": {
        "id": "N_D2-3kvs4BK"
      },
      "execution_count": null,
      "outputs": []
    },
    {
      "cell_type": "code",
      "source": [
        "print(X.toarray())"
      ],
      "metadata": {
        "colab": {
          "base_uri": "https://localhost:8080/"
        },
        "id": "7iRfkoOLs9Xl",
        "outputId": "c8e0a64f-9ba9-41a8-a2dc-bd9f9c7a14d9"
      },
      "execution_count": null,
      "outputs": [
        {
          "output_type": "stream",
          "name": "stdout",
          "text": [
            "[[0.29817373 0.         0.         0.         0.29817373 0.2315585\n",
            "  0.         0.78412525 0.         0.         0.39206263]\n",
            " [0.         0.50461134 0.50461134 0.         0.38376993 0.29803159\n",
            "  0.50461134 0.         0.         0.         0.        ]\n",
            " [0.38376993 0.         0.         0.50461134 0.         0.29803159\n",
            "  0.         0.         0.50461134 0.50461134 0.        ]]\n"
          ]
        }
      ]
    },
    {
      "cell_type": "markdown",
      "source": [
        "# **3. DictVectorizer**"
      ],
      "metadata": {
        "id": "KBo2Py78wf5q"
      }
    },
    {
      "cell_type": "markdown",
      "source": [
        "Yeh tab use hota hai jab tumhare features dictionary format mein hote hain"
      ],
      "metadata": {
        "id": "6ccl5MU8wn3s"
      }
    },
    {
      "cell_type": "code",
      "source": [
        "from sklearn.feature_extraction import DictVectorizer\n",
        "\n",
        "data = [\n",
        "    {\"city\": \"Delhi\", \"temp\": 42},\n",
        "    {\"city\": \"Mumbai\", \"temp\": 36},\n",
        "    {\"city\": \"Delhi\", \"temp\": 40}\n",
        "]\n",
        "\n",
        "vec = DictVectorizer(sparse=False)\n",
        "X = vec.fit_transform(data)\n",
        "\n",
        "print(vec.get_feature_names_out())\n",
        "print(X)\n"
      ],
      "metadata": {
        "colab": {
          "base_uri": "https://localhost:8080/"
        },
        "id": "-M2p4imntC0_",
        "outputId": "0f87dd49-95f1-4605-f7a7-23e8f0f17d1f"
      },
      "execution_count": null,
      "outputs": [
        {
          "output_type": "stream",
          "name": "stdout",
          "text": [
            "['city=Delhi' 'city=Mumbai' 'temp']\n",
            "[[ 1.  0. 42.]\n",
            " [ 0.  1. 36.]\n",
            " [ 1.  0. 40.]]\n"
          ]
        }
      ]
    },
    {
      "cell_type": "code",
      "source": [],
      "metadata": {
        "id": "sOh1JFPbwUZb"
      },
      "execution_count": null,
      "outputs": []
    }
  ]
}